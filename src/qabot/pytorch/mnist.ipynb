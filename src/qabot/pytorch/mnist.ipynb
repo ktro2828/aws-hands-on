{
 "cells": [
  {
   "cell_type": "code",
   "execution_count": null,
   "metadata": {},
   "outputs": [],
   "source": [
    "import torch\n",
    "import torch.optim as optim\n",
    "import torchvision\n",
    "from torchvision import datasets, transforms\n",
    "from matplotlib import pyplot as plt\n",
    "\n",
    "# custom functions and classes\n",
    "from simple_mnist import Model, train, evaluate"
   ]
  },
  {
   "attachments": {},
   "cell_type": "markdown",
   "metadata": {},
   "source": [
    "# Step1: Load the train and test data"
   ]
  },
  {
   "cell_type": "code",
   "execution_count": null,
   "metadata": {},
   "outputs": [],
   "source": [
    "trans = transforms.Compose([transforms.ToTensor(),\n",
    "                            transforms.Normalize((0.1307,), (0.3081,))])\n",
    "trainset = datasets.MNIST(root=\"./data\", train=True, download=True, transform=trans)\n",
    "train_loader = torch.utils.data.DataLoader(trainset, batch_size=64, suffle=True)\n",
    "\n",
    "testset = datasets.MNIST(root=\"./data\", train=False, download=True, transform=trans)\n",
    "test_loader = torch.utils.data.DataLoader(testset, batch_size=1000, shuffle=True)"
   ]
  },
  {
   "attachments": {},
   "cell_type": "markdown",
   "metadata": {},
   "source": [
    "# Step2: Visualize the MNIST data"
   ]
  },
  {
   "cell_type": "code",
   "execution_count": null,
   "metadata": {},
   "outputs": [],
   "source": [
    "samples = iter(test_loader)\n",
    "sample_data, sample_targets = samples.next()\n",
    "\n",
    "print(\"Sample data size: \", sample_data.shape)\n",
    "\n",
    "fig = plt.figure(figsize=(10, 4))\n",
    "for i in range(10):\n",
    "    plt.subplot(2, 5, i + 1)\n",
    "    plt.tight_layout()\n",
    "    plt.imshow(sample_data[i][0], cmap=\"gray\", interpolation=\"none\")\n",
    "    plt.title(f\"Ground Truth: {sample_targets[i]}\")\n",
    "    plt.xticks([])\n",
    "    plt.yticks([])\n",
    "plt.show()"
   ]
  },
  {
   "attachments": {},
   "cell_type": "markdown",
   "metadata": {},
   "source": [
    "# Step3: Load CNN model and optimizer"
   ]
  },
  {
   "cell_type": "code",
   "execution_count": null,
   "metadata": {},
   "outputs": [],
   "source": [
    "model = Model()\n",
    "model.to(\"cuda\")"
   ]
  },
  {
   "cell_type": "code",
   "execution_count": null,
   "metadata": {},
   "outputs": [],
   "source": [
    "optimizer = optim.SGD(model.parameters(), lr=0.01, momentum=0.5)"
   ]
  },
  {
   "attachments": {},
   "cell_type": "markdown",
   "metadata": {},
   "source": [
    "# Step5: Train the network"
   ]
  },
  {
   "cell_type": "code",
   "execution_count": null,
   "metadata": {},
   "outputs": [],
   "source": [
    "train_losses = []\n",
    "for epoch in range(5):\n",
    "    losses = train(model, train_loader, optimizer, epoch)\n",
    "    train_losses += losses\n",
    "    test_loss, test_accuracy = evaluate(model, test_loader)\n",
    "    print(f\"\\nTest set: Average loss: {test_loss:.4f}, Accuracy: {test_accuracy:.1f}%\\n\")\n",
    "\n",
    "plt.figure(figsize=(7, 5))\n",
    "plt.plot(train_losses)\n",
    "plt.xlabel(\"Iterations\")\n",
    "plt.ylabel(\"Train loss\")\n",
    "plt.show()"
   ]
  },
  {
   "attachments": {},
   "cell_type": "markdown",
   "metadata": {},
   "source": [
    "# Step6: Visualize the trained network predictions"
   ]
  },
  {
   "cell_type": "code",
   "execution_count": null,
   "metadata": {},
   "outputs": [],
   "source": [
    "model.eval()\n",
    "\n",
    "with torch.no_grad():\n",
    "    output = model(sample_data.to(\"device\"))\n",
    "\n",
    "fig = plt.figure(figsize=(10, 4))\n",
    "for i in range(10):\n",
    "    plt.subplot(2, 5, i + 1)\n",
    "    plt.tight_layout()\n",
    "    plt.imshow(sample_data[i][0], cmap=\"gray\", interpolation=\"none\")\n",
    "    plt.title(f\"Prediction: {output.data.max(1, keepdim=True)[1][i].item()}\")\n",
    "    plt.xticks([])\n",
    "    plt.yticks([])\n",
    "plt.show()"
   ]
  },
  {
   "attachments": {},
   "cell_type": "markdown",
   "metadata": {},
   "source": [
    "# Step7: Save the trained parameters"
   ]
  },
  {
   "cell_type": "code",
   "execution_count": null,
   "metadata": {},
   "outputs": [],
   "source": [
    "torch.save(model.state_dict(), \"mnist_cnn.pth\")"
   ]
  }
 ],
 "metadata": {
  "language_info": {
   "name": "python"
  },
  "orig_nbformat": 4
 },
 "nbformat": 4,
 "nbformat_minor": 2
}
